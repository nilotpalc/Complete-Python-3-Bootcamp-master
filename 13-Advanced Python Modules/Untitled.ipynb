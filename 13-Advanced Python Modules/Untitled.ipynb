{
 "cells": [
  {
   "cell_type": "code",
   "execution_count": 3,
   "metadata": {},
   "outputs": [
    {
     "ename": "SystemExit",
     "evalue": "Couldn't find a license key.",
     "output_type": "error",
     "traceback": [
      "An exception has occurred, use %tb to see the full traceback.\n",
      "\u001b[1;31mSystemExit\u001b[0m\u001b[1;31m:\u001b[0m Couldn't find a license key.\n"
     ]
    }
   ],
   "source": [
    "import xlwings as xw"
   ]
  },
  {
   "cell_type": "code",
   "execution_count": 4,
   "metadata": {},
   "outputs": [
    {
     "name": "stdout",
     "output_type": "stream",
     "text": [
      "Loading channels: ...working... done\n",
      "# Name                       Version           Build  Channel             \n",
      "xlwings                       0.11.4  py27h0373cff_0  pkgs/main           \n",
      "xlwings                       0.11.4  py35he637782_0  pkgs/main           \n",
      "xlwings                       0.11.4  py36hd3cf94d_0  pkgs/main           \n",
      "xlwings                       0.11.5          py27_0  pkgs/main           \n",
      "xlwings                       0.11.5          py35_0  pkgs/main           \n",
      "xlwings                       0.11.5          py36_0  pkgs/main           \n",
      "xlwings                       0.11.7          py27_0  pkgs/main           \n",
      "xlwings                       0.11.7          py35_0  pkgs/main           \n",
      "xlwings                       0.11.7          py36_0  pkgs/main           \n",
      "xlwings                       0.11.8          py27_0  pkgs/main           \n",
      "xlwings                       0.11.8          py35_0  pkgs/main           \n",
      "xlwings                       0.11.8          py36_0  pkgs/main           \n",
      "xlwings                       0.11.8          py37_0  pkgs/main           \n",
      "xlwings                       0.12.1          py27_0  pkgs/main           \n",
      "xlwings                       0.12.1          py36_0  pkgs/main           \n",
      "xlwings                       0.12.1          py37_0  pkgs/main           \n",
      "xlwings                       0.13.0          py27_0  pkgs/main           \n",
      "xlwings                       0.13.0          py36_0  pkgs/main           \n",
      "xlwings                       0.13.0          py37_0  pkgs/main           \n",
      "xlwings                       0.14.0          py27_0  pkgs/main           \n",
      "xlwings                       0.14.0          py36_0  pkgs/main           \n",
      "xlwings                       0.14.0          py37_0  pkgs/main           \n",
      "xlwings                       0.14.1          py27_0  pkgs/main           \n",
      "xlwings                       0.14.1          py36_0  pkgs/main           \n",
      "xlwings                       0.14.1          py37_0  pkgs/main           \n",
      "xlwings                       0.15.0          py27_0  pkgs/main           \n",
      "xlwings                       0.15.0          py36_0  pkgs/main           \n",
      "xlwings                       0.15.0          py37_0  pkgs/main           \n",
      "xlwings                       0.15.1          py27_0  pkgs/main           \n",
      "xlwings                       0.15.1          py36_0  pkgs/main           \n",
      "xlwings                       0.15.1          py37_0  pkgs/main           \n",
      "xlwings                       0.15.2          py27_0  pkgs/main           \n",
      "xlwings                       0.15.2          py36_0  pkgs/main           \n",
      "xlwings                       0.15.2          py37_0  pkgs/main           \n",
      "xlwings                       0.15.3          py27_0  pkgs/main           \n",
      "xlwings                       0.15.3          py36_0  pkgs/main           \n",
      "xlwings                       0.15.3          py37_0  pkgs/main           \n",
      "xlwings                       0.15.4          py27_0  pkgs/main           \n",
      "xlwings                       0.15.4          py36_0  pkgs/main           \n",
      "xlwings                       0.15.4          py37_0  pkgs/main           \n",
      "xlwings                       0.15.5          py27_0  pkgs/main           \n",
      "xlwings                       0.15.5          py36_0  pkgs/main           \n",
      "xlwings                       0.15.5          py37_0  pkgs/main           \n",
      "xlwings                       0.15.6          py27_0  pkgs/main           \n",
      "xlwings                       0.15.6          py36_0  pkgs/main           \n",
      "xlwings                       0.15.6          py37_0  pkgs/main           \n",
      "xlwings                       0.15.8          py27_0  pkgs/main           \n",
      "xlwings                       0.15.8          py36_0  pkgs/main           \n",
      "xlwings                       0.15.8          py37_0  pkgs/main           \n",
      "xlwings                      0.15.10          py27_0  pkgs/main           \n",
      "xlwings                      0.15.10          py36_0  pkgs/main           \n",
      "xlwings                      0.15.10          py37_0  pkgs/main           \n",
      "xlwings                       0.16.0          py27_0  pkgs/main           \n",
      "xlwings                       0.16.0          py36_0  pkgs/main           \n",
      "xlwings                       0.16.0          py37_0  pkgs/main           \n",
      "xlwings                       0.16.0          py38_0  pkgs/main           \n",
      "xlwings                       0.16.1          py27_0  pkgs/main           \n",
      "xlwings                       0.16.1          py36_0  pkgs/main           \n",
      "xlwings                       0.16.1          py37_0  pkgs/main           \n",
      "xlwings                       0.16.3          py27_0  pkgs/main           \n",
      "xlwings                       0.16.3          py36_0  pkgs/main           \n",
      "xlwings                       0.16.3          py37_0  pkgs/main           \n",
      "xlwings                       0.17.0          py36_0  pkgs/main           \n",
      "xlwings                       0.17.0          py37_0  pkgs/main           \n",
      "xlwings                       0.17.0          py38_0  pkgs/main           \n",
      "xlwings                       0.17.1          py36_0  pkgs/main           \n",
      "xlwings                       0.17.1          py37_0  pkgs/main           \n",
      "xlwings                       0.17.1          py38_0  pkgs/main           \n",
      "xlwings                       0.18.0          py36_0  pkgs/main           \n",
      "xlwings                       0.18.0          py37_0  pkgs/main           \n",
      "xlwings                       0.18.0          py38_0  pkgs/main           \n",
      "xlwings                       0.19.0          py36_0  pkgs/main           \n",
      "xlwings                       0.19.0          py37_0  pkgs/main           \n",
      "xlwings                       0.19.0          py38_0  pkgs/main           \n"
     ]
    }
   ],
   "source": [
    "!conda search xlwings"
   ]
  }
 ],
 "metadata": {
  "kernelspec": {
   "display_name": "Python 3",
   "language": "python",
   "name": "python3"
  },
  "language_info": {
   "codemirror_mode": {
    "name": "ipython",
    "version": 3
   },
   "file_extension": ".py",
   "mimetype": "text/x-python",
   "name": "python",
   "nbconvert_exporter": "python",
   "pygments_lexer": "ipython3",
   "version": "3.7.7"
  }
 },
 "nbformat": 4,
 "nbformat_minor": 4
}
