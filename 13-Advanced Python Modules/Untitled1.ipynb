{
 "cells": [
  {
   "cell_type": "code",
   "execution_count": 2,
   "metadata": {},
   "outputs": [],
   "source": [
    "from tiingo import TiingoClient\n",
    "\n",
    "# Set TIINGO_API_KEY in your environment variables in your .bash_profile, OR\n",
    "# pass a dictionary with 'api_key' as a key into the TiingoClient.\n",
    "\n",
    "client = TiingoClient({'api_key': '3fa8b3245fa335b9c39807deb597304433fde685'})"
   ]
  },
  {
   "cell_type": "code",
   "execution_count": 6,
   "metadata": {},
   "outputs": [],
   "source": [
    "import pandas as pd"
   ]
  },
  {
   "cell_type": "code",
   "execution_count": 5,
   "metadata": {},
   "outputs": [
    {
     "data": {
      "text/plain": [
       "list"
      ]
     },
     "execution_count": 5,
     "metadata": {},
     "output_type": "execute_result"
    }
   ],
   "source": [
    "ticker_price = client.get_ticker_price(\"GOOGL\", frequency=\"weekly\")"
   ]
  },
  {
   "cell_type": "code",
   "execution_count": 8,
   "metadata": {},
   "outputs": [
    {
     "data": {
      "text/html": [
       "<div>\n",
       "<style scoped>\n",
       "    .dataframe tbody tr th:only-of-type {\n",
       "        vertical-align: middle;\n",
       "    }\n",
       "\n",
       "    .dataframe tbody tr th {\n",
       "        vertical-align: top;\n",
       "    }\n",
       "\n",
       "    .dataframe thead th {\n",
       "        text-align: right;\n",
       "    }\n",
       "</style>\n",
       "<table border=\"1\" class=\"dataframe\">\n",
       "  <thead>\n",
       "    <tr style=\"text-align: right;\">\n",
       "      <th></th>\n",
       "      <th>adjClose</th>\n",
       "      <th>adjHigh</th>\n",
       "      <th>adjLow</th>\n",
       "      <th>adjOpen</th>\n",
       "      <th>adjVolume</th>\n",
       "      <th>close</th>\n",
       "      <th>date</th>\n",
       "      <th>divCash</th>\n",
       "      <th>high</th>\n",
       "      <th>low</th>\n",
       "      <th>open</th>\n",
       "      <th>splitFactor</th>\n",
       "      <th>volume</th>\n",
       "    </tr>\n",
       "  </thead>\n",
       "  <tbody>\n",
       "    <tr>\n",
       "      <th>0</th>\n",
       "      <td>1412.92</td>\n",
       "      <td>1434.51</td>\n",
       "      <td>1385.8</td>\n",
       "      <td>1425.86</td>\n",
       "      <td>1833756</td>\n",
       "      <td>1412.92</td>\n",
       "      <td>2020-06-12T00:00:00+00:00</td>\n",
       "      <td>0.0</td>\n",
       "      <td>1434.51</td>\n",
       "      <td>1385.8</td>\n",
       "      <td>1425.86</td>\n",
       "      <td>1.0</td>\n",
       "      <td>1833756</td>\n",
       "    </tr>\n",
       "  </tbody>\n",
       "</table>\n",
       "</div>"
      ],
      "text/plain": [
       "   adjClose  adjHigh  adjLow  adjOpen  adjVolume    close  \\\n",
       "0   1412.92  1434.51  1385.8  1425.86    1833756  1412.92   \n",
       "\n",
       "                        date  divCash     high     low     open  splitFactor  \\\n",
       "0  2020-06-12T00:00:00+00:00      0.0  1434.51  1385.8  1425.86          1.0   \n",
       "\n",
       "    volume  \n",
       "0  1833756  "
      ]
     },
     "execution_count": 8,
     "metadata": {},
     "output_type": "execute_result"
    }
   ],
   "source": [
    "df = pd.DataFrame(ticker_price)\n",
    "df"
   ]
  },
  {
   "cell_type": "code",
   "execution_count": 14,
   "metadata": {},
   "outputs": [
    {
     "data": {
      "text/html": [
       "<div>\n",
       "<style scoped>\n",
       "    .dataframe tbody tr th:only-of-type {\n",
       "        vertical-align: middle;\n",
       "    }\n",
       "\n",
       "    .dataframe tbody tr th {\n",
       "        vertical-align: top;\n",
       "    }\n",
       "\n",
       "    .dataframe thead th {\n",
       "        text-align: right;\n",
       "    }\n",
       "</style>\n",
       "<table border=\"1\" class=\"dataframe\">\n",
       "  <thead>\n",
       "    <tr style=\"text-align: right;\">\n",
       "      <th></th>\n",
       "      <th>adjClose</th>\n",
       "      <th>adjHigh</th>\n",
       "      <th>adjLow</th>\n",
       "      <th>adjOpen</th>\n",
       "      <th>adjVolume</th>\n",
       "      <th>close</th>\n",
       "      <th>divCash</th>\n",
       "      <th>high</th>\n",
       "      <th>low</th>\n",
       "      <th>open</th>\n",
       "      <th>splitFactor</th>\n",
       "      <th>volume</th>\n",
       "    </tr>\n",
       "    <tr>\n",
       "      <th>date</th>\n",
       "      <th></th>\n",
       "      <th></th>\n",
       "      <th></th>\n",
       "      <th></th>\n",
       "      <th></th>\n",
       "      <th></th>\n",
       "      <th></th>\n",
       "      <th></th>\n",
       "      <th></th>\n",
       "      <th></th>\n",
       "      <th></th>\n",
       "      <th></th>\n",
       "    </tr>\n",
       "  </thead>\n",
       "  <tbody>\n",
       "    <tr>\n",
       "      <th>2020-06-12 00:00:00+00:00</th>\n",
       "      <td>34.45</td>\n",
       "      <td>35.12</td>\n",
       "      <td>33.69</td>\n",
       "      <td>34.83</td>\n",
       "      <td>6520222</td>\n",
       "      <td>34.45</td>\n",
       "      <td>0.0</td>\n",
       "      <td>35.12</td>\n",
       "      <td>33.69</td>\n",
       "      <td>34.83</td>\n",
       "      <td>1.0</td>\n",
       "      <td>6520222</td>\n",
       "    </tr>\n",
       "  </tbody>\n",
       "</table>\n",
       "</div>"
      ],
      "text/plain": [
       "                           adjClose  adjHigh  adjLow  adjOpen  adjVolume  \\\n",
       "date                                                                       \n",
       "2020-06-12 00:00:00+00:00     34.45    35.12   33.69    34.83    6520222   \n",
       "\n",
       "                           close  divCash   high    low   open  splitFactor  \\\n",
       "date                                                                          \n",
       "2020-06-12 00:00:00+00:00  34.45      0.0  35.12  33.69  34.83          1.0   \n",
       "\n",
       "                            volume  \n",
       "date                                \n",
       "2020-06-12 00:00:00+00:00  6520222  "
      ]
     },
     "execution_count": 14,
     "metadata": {},
     "output_type": "execute_result"
    }
   ],
   "source": [
    "ticker_history_RDSB = client.get_dataframe(\"RDS-A\")\n",
    "ticker_history_RDSB"
   ]
  }
 ],
 "metadata": {
  "kernelspec": {
   "display_name": "Python 3",
   "language": "python",
   "name": "python3"
  },
  "language_info": {
   "codemirror_mode": {
    "name": "ipython",
    "version": 3
   },
   "file_extension": ".py",
   "mimetype": "text/x-python",
   "name": "python",
   "nbconvert_exporter": "python",
   "pygments_lexer": "ipython3",
   "version": "3.7.6"
  }
 },
 "nbformat": 4,
 "nbformat_minor": 4
}
